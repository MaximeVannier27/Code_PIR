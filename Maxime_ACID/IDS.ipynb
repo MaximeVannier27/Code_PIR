{
 "cells": [
  {
   "cell_type": "markdown",
   "metadata": {},
   "source": [
    "# Adaptive Clustering based Intrusion Detection\n",
    "---\n",
    "<p style=\"font-size: 1.5em; line-height: 1.2em;\">In this notebook, we build an Intrusion Detection System based on our classifier-agnostic Adaptive Clustering approach as presented in our paper: <a href=\"https://homepages.inf.ed.ac.uk/ppatras/pub/infocom21.pdf\" target=\"_blank\">Adaptive Clustering-based Malicious Traffic Classification at the Network Edge</a>. This approach obtains a perfect Accuracy and F1-score of <b>100.0%</b> with a False Alarm Rate of <b>0%</b>, making it the new state-of-the-art approach for intrusion detection.</p>\n",
    "\n",
    "<p style=\"font-size: 1.5em; line-height: 1.2em;\">In this notebook, we will perform a multi-label classification task on the preprocessed <a href=\"https://registry.opendata.aws/cse-cic-ids2018/\" target=\"_blank\">CSE-CIC-IDS 2018</a> dataset.</p>\n",
    "<p style=\"padding-left: 10px; margin-left: 20px; border-left: 5px solid #CCC; font-style: italic;\">\n",
    "Iman Sharafaldin, Arash Habibi Lashkari, and Ali A. Ghorbani, “Toward Generating a New Intrusion Detection Dataset and Intrusion Traffic Characterization”, 4th International Conference on Information Systems Security and Privacy (ICISSP), Portugal, January 2018\n",
    "</p>"
   ]
  },
  {
   "cell_type": "markdown",
   "metadata": {},
   "source": [
    "## Imports"
   ]
  },
  {
   "cell_type": "code",
   "execution_count": 1,
   "metadata": {},
   "outputs": [],
   "source": [
    "#!/usr/bin/env python\n",
    "\n",
    "__author__ = \"Alec F.\"\n",
    "__license__ = \"GPL\"\n",
    "__version__ = \"1.0.1\"\n",
    "\n",
    "\n",
    "import os\n",
    "import sys\n",
    "\n",
    "from core.models.network import AdaptiveClustering\n",
    "from core.utils.misc import extend_dataset\n",
    "from core.utils import Dataset\n",
    "\n",
    "import json\n",
    "\n",
    "import pandas as pd\n",
    "pd.set_option('display.max_columns', None)\n",
    "import numpy as np\n",
    "import pickle as pkl\n",
    "\n",
    "import torch\n",
    "import torch.nn as nn\n",
    "import torch.optim as optim\n",
    "from torch.autograd import Variable\n",
    "\n",
    "from torch.utils.data import DataLoader\n",
    "\n",
    "from core.models.RandomForest import RandomForest\n",
    "from sklearn.metrics import confusion_matrix, precision_recall_fscore_support as prf, accuracy_score\n",
    "\n",
    "from pprint import pprint"
   ]
  },
  {
   "cell_type": "markdown",
   "metadata": {},
   "source": [
    "## Helpers\n",
    "\n",
    "We use these helpers functions throughout all our experiments for simplify our main code and improve its readability. In all our experiments, our datasets are separated to approximately obtain a 70/30 train-test split from randomly sampled data. We use the pickle library to save our trained model and defined a set of metrics that are commonly used for classification tasks."
   ]
  },
  {
   "cell_type": "code",
   "execution_count": 2,
   "metadata": {},
   "outputs": [],
   "source": [
    "def load_dataset(dataset_path):\n",
    "    global categories\n",
    "    if not os.path.exists(dataset_path):\n",
    "        print(f\"Dataset not found: {dataset_path}\")\n",
    "        sys.exit(1)\n",
    "\n",
    "    df = pd.read_csv(dataset_path, index_col=False, sep=\",\")\n",
    "\n",
    "    \n",
    "    # For binary classification, uncomment the following line\n",
    "    df['Label.'] = np.where(df['Label.'] == 0, \"Normal\", \"Attack\")\n",
    "\n",
    "    \n",
    "    train_test_split = .3\n",
    "    msk = np.random.rand(len(df)) < train_test_split\n",
    "    train_df = df[msk]\n",
    "    test_df = df[~msk]\n",
    "\n",
    "    return train_df, test_df, df\n",
    "\n",
    "\n",
    "def save_model(rf, filename):\n",
    "    with open(filename, 'wb') as f:\n",
    "        pkl.dump(rf, f)\n",
    "\n",
    "\n",
    "def load_model(filename):\n",
    "    with open(filename, 'rb') as f:\n",
    "        m = pkl.load(f)\n",
    "    return m\n",
    "\n",
    "\n",
    "class metrics(object):\n",
    "\n",
    "    def __init__(self, tp=None, tn=None, fp=None, fn=None):\n",
    "        super(metrics, self).__init__()\n",
    "\n",
    "        self.tp, self.tn, self.fp, self.fn = tp, tn, fp, fn\n",
    "\n",
    "        self.metrics = {}\n",
    "\n",
    "    def accuracy(self):\n",
    "        return (self.tp + self.tn) / (self.tp + self.tn + self.fp + self.fn)\n",
    "\n",
    "    def detection_rate(self):\n",
    "        return self.tp / (self.tp + self.fn)\n",
    "\n",
    "    def false_alarm_rate(self):\n",
    "        return self.fp / (self.fp + self.tn)\n",
    "\n",
    "    def precision(self):\n",
    "        return self.tp / (self.tp + self.fp)\n",
    "\n",
    "    def f1(self):\n",
    "        prec = self.precision()\n",
    "        rec = self.detection_rate()\n",
    "        return 0 if (prec + rec) == 0 else 2 * (prec * rec) / (prec + rec)\n",
    "\n",
    "    def get_metrics(self):\n",
    "        self.metrics = {\"Acc\": self.accuracy(), \"DR/Recall\": self.detection_rate(), \"FAR\": self.false_alarm_rate(),\n",
    "                        \"PRECISION\": self.precision(), \"F1 SCORE\": self.f1()}\n",
    "        return self.metrics"
   ]
  },
  {
   "cell_type": "markdown",
   "metadata": {},
   "source": [
    "## Adaptive Clustering - training function\n",
    "\n",
    "We train our Adaptive Clustering network by following the exact settings provided in the paper.\n",
    "However, we also implement an early stop mechanism allowing us to stop the training as soon as we achieve an acceptable loss."
   ]
  },
  {
   "cell_type": "code",
   "execution_count": 3,
   "metadata": {},
   "outputs": [],
   "source": [
    "def train(X, y, lr=1e-4):\n",
    "    batch_size = 1024\n",
    "    print(\"Adaptive training...\")\n",
    "    model_ = AdaptiveClustering(encoder_dims=[500, 200, 50], n_kernels=len(categories), kernel_size=10)\n",
    "    model_.train()\n",
    "\n",
    "\n",
    "    ds = Dataset(X, y)\n",
    "    dl = DataLoader(ds, batch_size=batch_size, shuffle=True, num_workers=8)\n",
    "\n",
    "    n_epoch = 1\n",
    "    optimizer = None\n",
    "\n",
    "    for i in range(n_epoch):\n",
    "        iteration_losses = []\n",
    "        \n",
    "        for x, labels_ in dl:\n",
    "            model_.zero_grad()\n",
    "            _ = model_(x, labels_)\n",
    "            if optimizer is None:\n",
    "                optimizer = torch.optim.Adam(model_.parameters(), lr=lr)\n",
    "\n",
    "            loss = model_.loss()\n",
    "            loss_value = loss.item()\n",
    "\n",
    "            iteration_losses.append(loss_value)\n",
    "\n",
    "            loss.backward()\n",
    "            optimizer.step()\n",
    "\n",
    "        print(f\"Iteration {i} | Loss {np.mean(iteration_losses)}\")\n",
    "\n",
    "    model_.eval()\n",
    "    return model_"
   ]
  },
  {
   "cell_type": "markdown",
   "metadata": {},
   "source": [
    "## Variables\n",
    "\n",
    "Here we define some global variables to locate our datasets and point to our results directory."
   ]
  },
  {
   "cell_type": "code",
   "execution_count": 4,
   "metadata": {},
   "outputs": [],
   "source": [
    "root_path = './'\n",
    "\n",
    "dataset_path = root_path + 'datasets/KDD/kddcup_corrige.csv'\n",
    "extended_dataset_path = root_path + 'datasets/KDD/extended_kddcup_corrige.csv'\n",
    "\n",
    "results_path = root_path + f'results/'\n",
    "if not os.path.exists(results_path):\n",
    "    os.mkdir(results_path)"
   ]
  },
  {
   "cell_type": "code",
   "execution_count": 5,
   "metadata": {},
   "outputs": [],
   "source": [
    "model_path = results_path + 'trained_model.pkl'\n",
    "separator = \"-\"*50"
   ]
  },
  {
   "cell_type": "markdown",
   "metadata": {},
   "source": [
    "## Dataset\n",
    "### Loading dataset\n",
    "\n",
    "We load the preprocessed dataset as a pandas data frame and show the first few rows."
   ]
  },
  {
   "cell_type": "code",
   "execution_count": 6,
   "metadata": {},
   "outputs": [
    {
     "name": "stdout",
     "output_type": "stream",
     "text": [
      "--------------------------------------------------\n",
      "Loading dataset...\n",
      "Done loading dataset\n"
     ]
    }
   ],
   "source": [
    "print(separator)\n",
    "print(\"Loading dataset...\")\n",
    "if os.path.exists(extended_dataset_path):\n",
    "    train_df, test_df, df = load_dataset(extended_dataset_path)\n",
    "    print(\"Done loading extended dataset\")\n",
    "else:\n",
    "    train_df, test_df, df = load_dataset(dataset_path)\n",
    "    print(\"Done loading dataset\")\n"
   ]
  },
  {
   "cell_type": "code",
   "execution_count": 7,
   "metadata": {},
   "outputs": [
    {
     "data": {
      "text/html": [
       "<div>\n",
       "<style scoped>\n",
       "    .dataframe tbody tr th:only-of-type {\n",
       "        vertical-align: middle;\n",
       "    }\n",
       "\n",
       "    .dataframe tbody tr th {\n",
       "        vertical-align: top;\n",
       "    }\n",
       "\n",
       "    .dataframe thead th {\n",
       "        text-align: right;\n",
       "    }\n",
       "</style>\n",
       "<table border=\"1\" class=\"dataframe\">\n",
       "  <thead>\n",
       "    <tr style=\"text-align: right;\">\n",
       "      <th></th>\n",
       "      <th>duration</th>\n",
       "      <th>protocol_type</th>\n",
       "      <th>service</th>\n",
       "      <th>flag</th>\n",
       "      <th>src_bytes</th>\n",
       "      <th>dst_bytes</th>\n",
       "      <th>land</th>\n",
       "      <th>wrong_fragment</th>\n",
       "      <th>urgent</th>\n",
       "      <th>hot</th>\n",
       "      <th>num_failed_logins</th>\n",
       "      <th>logged_in</th>\n",
       "      <th>num_compromised</th>\n",
       "      <th>root_shell</th>\n",
       "      <th>su_attempted</th>\n",
       "      <th>num_root</th>\n",
       "      <th>num_file_creations</th>\n",
       "      <th>num_shells</th>\n",
       "      <th>num_access_files</th>\n",
       "      <th>num_outbound_cmds</th>\n",
       "      <th>is_host_login</th>\n",
       "      <th>is_guest_login</th>\n",
       "      <th>count</th>\n",
       "      <th>srv_count</th>\n",
       "      <th>serror_rate</th>\n",
       "      <th>srv_serror_rate</th>\n",
       "      <th>rerror_rate</th>\n",
       "      <th>srv_rerror_rate</th>\n",
       "      <th>same_srv_rate</th>\n",
       "      <th>diff_srv_rate</th>\n",
       "      <th>srv_diff_host_rate</th>\n",
       "      <th>dst_host_count</th>\n",
       "      <th>dst_host_srv_count</th>\n",
       "      <th>dst_host_same_srv_rate</th>\n",
       "      <th>dst_host_diff_srv_rate</th>\n",
       "      <th>dst_host_same_src_port_rate</th>\n",
       "      <th>dst_host_srv_diff_host_rate</th>\n",
       "      <th>dst_host_serror_rate</th>\n",
       "      <th>dst_host_srv_serror_rate</th>\n",
       "      <th>dst_host_rerror_rate</th>\n",
       "      <th>dst_host_srv_rerror_rate</th>\n",
       "      <th>Label.</th>\n",
       "    </tr>\n",
       "  </thead>\n",
       "  <tbody>\n",
       "    <tr>\n",
       "      <th>0</th>\n",
       "      <td>0</td>\n",
       "      <td>0</td>\n",
       "      <td>0</td>\n",
       "      <td>0</td>\n",
       "      <td>215</td>\n",
       "      <td>45076</td>\n",
       "      <td>0</td>\n",
       "      <td>0</td>\n",
       "      <td>0</td>\n",
       "      <td>0</td>\n",
       "      <td>0</td>\n",
       "      <td>1</td>\n",
       "      <td>0</td>\n",
       "      <td>0</td>\n",
       "      <td>0</td>\n",
       "      <td>0</td>\n",
       "      <td>0</td>\n",
       "      <td>0</td>\n",
       "      <td>0</td>\n",
       "      <td>0</td>\n",
       "      <td>0</td>\n",
       "      <td>0</td>\n",
       "      <td>1</td>\n",
       "      <td>1</td>\n",
       "      <td>0.0</td>\n",
       "      <td>0.0</td>\n",
       "      <td>0.0</td>\n",
       "      <td>0.0</td>\n",
       "      <td>1.0</td>\n",
       "      <td>0.0</td>\n",
       "      <td>0.0</td>\n",
       "      <td>0</td>\n",
       "      <td>0</td>\n",
       "      <td>0.0</td>\n",
       "      <td>0.0</td>\n",
       "      <td>0.00</td>\n",
       "      <td>0.0</td>\n",
       "      <td>0.0</td>\n",
       "      <td>0.0</td>\n",
       "      <td>0.0</td>\n",
       "      <td>0.0</td>\n",
       "      <td>Attack</td>\n",
       "    </tr>\n",
       "    <tr>\n",
       "      <th>1</th>\n",
       "      <td>0</td>\n",
       "      <td>0</td>\n",
       "      <td>0</td>\n",
       "      <td>0</td>\n",
       "      <td>162</td>\n",
       "      <td>4528</td>\n",
       "      <td>0</td>\n",
       "      <td>0</td>\n",
       "      <td>0</td>\n",
       "      <td>0</td>\n",
       "      <td>0</td>\n",
       "      <td>1</td>\n",
       "      <td>0</td>\n",
       "      <td>0</td>\n",
       "      <td>0</td>\n",
       "      <td>0</td>\n",
       "      <td>0</td>\n",
       "      <td>0</td>\n",
       "      <td>0</td>\n",
       "      <td>0</td>\n",
       "      <td>0</td>\n",
       "      <td>0</td>\n",
       "      <td>2</td>\n",
       "      <td>2</td>\n",
       "      <td>0.0</td>\n",
       "      <td>0.0</td>\n",
       "      <td>0.0</td>\n",
       "      <td>0.0</td>\n",
       "      <td>1.0</td>\n",
       "      <td>0.0</td>\n",
       "      <td>0.0</td>\n",
       "      <td>1</td>\n",
       "      <td>1</td>\n",
       "      <td>1.0</td>\n",
       "      <td>0.0</td>\n",
       "      <td>1.00</td>\n",
       "      <td>0.0</td>\n",
       "      <td>0.0</td>\n",
       "      <td>0.0</td>\n",
       "      <td>0.0</td>\n",
       "      <td>0.0</td>\n",
       "      <td>Normal</td>\n",
       "    </tr>\n",
       "    <tr>\n",
       "      <th>2</th>\n",
       "      <td>0</td>\n",
       "      <td>0</td>\n",
       "      <td>0</td>\n",
       "      <td>0</td>\n",
       "      <td>236</td>\n",
       "      <td>1228</td>\n",
       "      <td>0</td>\n",
       "      <td>0</td>\n",
       "      <td>0</td>\n",
       "      <td>0</td>\n",
       "      <td>0</td>\n",
       "      <td>1</td>\n",
       "      <td>0</td>\n",
       "      <td>0</td>\n",
       "      <td>0</td>\n",
       "      <td>0</td>\n",
       "      <td>0</td>\n",
       "      <td>0</td>\n",
       "      <td>0</td>\n",
       "      <td>0</td>\n",
       "      <td>0</td>\n",
       "      <td>0</td>\n",
       "      <td>1</td>\n",
       "      <td>1</td>\n",
       "      <td>0.0</td>\n",
       "      <td>0.0</td>\n",
       "      <td>0.0</td>\n",
       "      <td>0.0</td>\n",
       "      <td>1.0</td>\n",
       "      <td>0.0</td>\n",
       "      <td>0.0</td>\n",
       "      <td>2</td>\n",
       "      <td>2</td>\n",
       "      <td>1.0</td>\n",
       "      <td>0.0</td>\n",
       "      <td>0.50</td>\n",
       "      <td>0.0</td>\n",
       "      <td>0.0</td>\n",
       "      <td>0.0</td>\n",
       "      <td>0.0</td>\n",
       "      <td>0.0</td>\n",
       "      <td>Normal</td>\n",
       "    </tr>\n",
       "    <tr>\n",
       "      <th>3</th>\n",
       "      <td>0</td>\n",
       "      <td>0</td>\n",
       "      <td>0</td>\n",
       "      <td>0</td>\n",
       "      <td>233</td>\n",
       "      <td>2032</td>\n",
       "      <td>0</td>\n",
       "      <td>0</td>\n",
       "      <td>0</td>\n",
       "      <td>0</td>\n",
       "      <td>0</td>\n",
       "      <td>1</td>\n",
       "      <td>0</td>\n",
       "      <td>0</td>\n",
       "      <td>0</td>\n",
       "      <td>0</td>\n",
       "      <td>0</td>\n",
       "      <td>0</td>\n",
       "      <td>0</td>\n",
       "      <td>0</td>\n",
       "      <td>0</td>\n",
       "      <td>0</td>\n",
       "      <td>2</td>\n",
       "      <td>2</td>\n",
       "      <td>0.0</td>\n",
       "      <td>0.0</td>\n",
       "      <td>0.0</td>\n",
       "      <td>0.0</td>\n",
       "      <td>1.0</td>\n",
       "      <td>0.0</td>\n",
       "      <td>0.0</td>\n",
       "      <td>3</td>\n",
       "      <td>3</td>\n",
       "      <td>1.0</td>\n",
       "      <td>0.0</td>\n",
       "      <td>0.33</td>\n",
       "      <td>0.0</td>\n",
       "      <td>0.0</td>\n",
       "      <td>0.0</td>\n",
       "      <td>0.0</td>\n",
       "      <td>0.0</td>\n",
       "      <td>Normal</td>\n",
       "    </tr>\n",
       "    <tr>\n",
       "      <th>4</th>\n",
       "      <td>0</td>\n",
       "      <td>0</td>\n",
       "      <td>0</td>\n",
       "      <td>0</td>\n",
       "      <td>239</td>\n",
       "      <td>486</td>\n",
       "      <td>0</td>\n",
       "      <td>0</td>\n",
       "      <td>0</td>\n",
       "      <td>0</td>\n",
       "      <td>0</td>\n",
       "      <td>1</td>\n",
       "      <td>0</td>\n",
       "      <td>0</td>\n",
       "      <td>0</td>\n",
       "      <td>0</td>\n",
       "      <td>0</td>\n",
       "      <td>0</td>\n",
       "      <td>0</td>\n",
       "      <td>0</td>\n",
       "      <td>0</td>\n",
       "      <td>0</td>\n",
       "      <td>3</td>\n",
       "      <td>3</td>\n",
       "      <td>0.0</td>\n",
       "      <td>0.0</td>\n",
       "      <td>0.0</td>\n",
       "      <td>0.0</td>\n",
       "      <td>1.0</td>\n",
       "      <td>0.0</td>\n",
       "      <td>0.0</td>\n",
       "      <td>4</td>\n",
       "      <td>4</td>\n",
       "      <td>1.0</td>\n",
       "      <td>0.0</td>\n",
       "      <td>0.25</td>\n",
       "      <td>0.0</td>\n",
       "      <td>0.0</td>\n",
       "      <td>0.0</td>\n",
       "      <td>0.0</td>\n",
       "      <td>0.0</td>\n",
       "      <td>Normal</td>\n",
       "    </tr>\n",
       "  </tbody>\n",
       "</table>\n",
       "</div>"
      ],
      "text/plain": [
       "   duration  protocol_type  service  flag  src_bytes  dst_bytes  land  \\\n",
       "0         0              0        0     0        215      45076     0   \n",
       "1         0              0        0     0        162       4528     0   \n",
       "2         0              0        0     0        236       1228     0   \n",
       "3         0              0        0     0        233       2032     0   \n",
       "4         0              0        0     0        239        486     0   \n",
       "\n",
       "   wrong_fragment  urgent  hot  num_failed_logins  logged_in  num_compromised  \\\n",
       "0               0       0    0                  0          1                0   \n",
       "1               0       0    0                  0          1                0   \n",
       "2               0       0    0                  0          1                0   \n",
       "3               0       0    0                  0          1                0   \n",
       "4               0       0    0                  0          1                0   \n",
       "\n",
       "   root_shell  su_attempted  num_root  num_file_creations  num_shells  \\\n",
       "0           0             0         0                   0           0   \n",
       "1           0             0         0                   0           0   \n",
       "2           0             0         0                   0           0   \n",
       "3           0             0         0                   0           0   \n",
       "4           0             0         0                   0           0   \n",
       "\n",
       "   num_access_files  num_outbound_cmds  is_host_login  is_guest_login  count  \\\n",
       "0                 0                  0              0               0      1   \n",
       "1                 0                  0              0               0      2   \n",
       "2                 0                  0              0               0      1   \n",
       "3                 0                  0              0               0      2   \n",
       "4                 0                  0              0               0      3   \n",
       "\n",
       "   srv_count  serror_rate  srv_serror_rate  rerror_rate  srv_rerror_rate  \\\n",
       "0          1          0.0              0.0          0.0              0.0   \n",
       "1          2          0.0              0.0          0.0              0.0   \n",
       "2          1          0.0              0.0          0.0              0.0   \n",
       "3          2          0.0              0.0          0.0              0.0   \n",
       "4          3          0.0              0.0          0.0              0.0   \n",
       "\n",
       "   same_srv_rate  diff_srv_rate  srv_diff_host_rate  dst_host_count  \\\n",
       "0            1.0            0.0                 0.0               0   \n",
       "1            1.0            0.0                 0.0               1   \n",
       "2            1.0            0.0                 0.0               2   \n",
       "3            1.0            0.0                 0.0               3   \n",
       "4            1.0            0.0                 0.0               4   \n",
       "\n",
       "   dst_host_srv_count  dst_host_same_srv_rate  dst_host_diff_srv_rate  \\\n",
       "0                   0                     0.0                     0.0   \n",
       "1                   1                     1.0                     0.0   \n",
       "2                   2                     1.0                     0.0   \n",
       "3                   3                     1.0                     0.0   \n",
       "4                   4                     1.0                     0.0   \n",
       "\n",
       "   dst_host_same_src_port_rate  dst_host_srv_diff_host_rate  \\\n",
       "0                         0.00                          0.0   \n",
       "1                         1.00                          0.0   \n",
       "2                         0.50                          0.0   \n",
       "3                         0.33                          0.0   \n",
       "4                         0.25                          0.0   \n",
       "\n",
       "   dst_host_serror_rate  dst_host_srv_serror_rate  dst_host_rerror_rate  \\\n",
       "0                   0.0                       0.0                   0.0   \n",
       "1                   0.0                       0.0                   0.0   \n",
       "2                   0.0                       0.0                   0.0   \n",
       "3                   0.0                       0.0                   0.0   \n",
       "4                   0.0                       0.0                   0.0   \n",
       "\n",
       "   dst_host_srv_rerror_rate  Label.  \n",
       "0                       0.0  Attack  \n",
       "1                       0.0  Normal  \n",
       "2                       0.0  Normal  \n",
       "3                       0.0  Normal  \n",
       "4                       0.0  Normal  "
      ]
     },
     "execution_count": 7,
     "metadata": {},
     "output_type": "execute_result"
    }
   ],
   "source": [
    "df.head()"
   ]
  },
  {
   "cell_type": "markdown",
   "metadata": {},
   "source": [
    "### Preparing the data\n",
    "\n",
    "We prepare the features to be in the correct format for our Adaptive Clustering network and the Random Forest Classifier.\n",
    "\n",
    "The labels are separated from the training features and the order of the categories are kept track of in order to use them in the same order when evaluating the model on the testing set."
   ]
  },
  {
   "cell_type": "code",
   "execution_count": 8,
   "metadata": {},
   "outputs": [
    {
     "name": "stdout",
     "output_type": "stream",
     "text": [
      "Creating categories...\n",
      "Done creating categories...\n",
      "catégories de trafic traitées: ['Normal', 'Attack']\n"
     ]
    }
   ],
   "source": [
    "if os.path.exists(model_path + \".categories\"):\n",
    "    print(separator)\n",
    "    print(\"Loading categories...\")\n",
    "    with open(model_path + \".categories\", \"r\") as f:\n",
    "        categories = json.load(f)\n",
    "        print(f\"categories loaded: {model_path}.categories\")\n",
    "    print(\"Done loading categories\")\n",
    "else:\n",
    "    print(\"Creating categories...\")\n",
    "    categories = list(set(pd.factorize(train_df['Label.'])[1].values))\n",
    "    print(\"Done creating categories...\")\n",
    "\n",
    "print(\"catégories de trafic traitées:\",categories)\n",
    "\n",
    "train_df_ = train_df.drop(['Label.'], axis=1)\n",
    "\n",
    "X = train_df_.values.tolist()\n",
    "y = train_df['Label.'].values.tolist()\n",
    "\n",
    "X = torch.FloatTensor(np.array(X))\n",
    "\n",
    "for i, l in enumerate(y):\n",
    "    y[i] = categories.index(l)\n",
    "\n",
    "y = torch.LongTensor(np.array(y))\n",
    "\n",
    "cats = df['Label.'].copy()\n",
    "y_ = df['Label.'].values\n",
    "df.drop(['Label.'], axis=1, inplace=True)"
   ]
  },
  {
   "cell_type": "markdown",
   "metadata": {},
   "source": [
    "## Learning"
   ]
  },
  {
   "cell_type": "markdown",
   "metadata": {},
   "source": [
    "### Training the model\n",
    "\n",
    "We train our model until we achieve an acceptable loss and export an extended dataset with the cluster centers obtained from the Adaptive Clustering network. This would allow us to not have to retrain our network for every single execution."
   ]
  },
  {
   "cell_type": "code",
   "execution_count": 9,
   "metadata": {},
   "outputs": [
    {
     "name": "stdout",
     "output_type": "stream",
     "text": [
      "Training model...\n",
      "Adaptive training...\n",
      "Iteration 0 | Loss 0.35298494569931294\n",
      "Done training model\n"
     ]
    }
   ],
   "source": [
    "if not os.path.exists(model_path):\n",
    "    print(\"Training model...\")\n",
    "    model = train(X, y)\n",
    "    print(\"Done training model\")\n",
    "\n",
    "# if not os.path.exists(extended_dataset_path):\n",
    "#     rf_features, cols = extend_dataset(model, df, cats, label_tag='Label.')\n",
    "\n",
    "#     del df\n",
    "#     del train_df\n",
    "#     del test_df"
   ]
  },
  {
   "cell_type": "markdown",
   "metadata": {},
   "source": [
    "As we can see here, thanks to our early stopping mechanism, we train our Adaptive Clustering model for only 17 iterations and still obtain a perfect classification accuracy and F-score of __100%__ as shown in the [performance metrics section](#Performance-metrics)."
   ]
  },
  {
   "cell_type": "code",
   "execution_count": 10,
   "metadata": {},
   "outputs": [],
   "source": [
    "# if not os.path.exists(extended_dataset_path):\n",
    "#     print(f\"Saving new dataset...\")\n",
    "#     new_df = pd.DataFrame(data=rf_features, columns=cols)\n",
    "#     new_df.to_csv(extended_dataset_path, index=False)\n",
    "#     print(f\"Done saving new dataset: {extended_dataset_path}\")\n",
    "\n",
    "#     train_test_split = .7\n",
    "#     msk = np.random.rand(len(new_df)) < train_test_split\n",
    "#     train_df = new_df[msk]\n",
    "#     test_df = new_df[~msk]\n",
    "\n",
    "#     df_ = train_df.drop(['Label.'], axis=1)\n",
    "\n",
    "#     X = df_.values.tolist()\n",
    "\n",
    "#     y = train_df['Label.'].values.tolist()\n",
    "#     for i, l in enumerate(y):\n",
    "#         y[i] = categories.index(l)"
   ]
  },
  {
   "cell_type": "markdown",
   "metadata": {},
   "source": [
    "After obtaining the extended dataset, we train our final classifier and evaluate our Intrusion Detection System."
   ]
  },
  {
   "cell_type": "code",
   "execution_count": 11,
   "metadata": {},
   "outputs": [
    {
     "name": "stdout",
     "output_type": "stream",
     "text": [
      "Training Random Forest...\n",
      "Done training Random Forest\n",
      "Saving model...\n",
      "Categories saved: ./results/trained_model.pkl.categories\n",
      "Done saving model\n"
     ]
    }
   ],
   "source": [
    "if not os.path.exists(model_path):\n",
    "    print(\"Training Random Forest...\")\n",
    "    model.classifier = RandomForest(n_estimators=200)\n",
    "    model.classifier.fit(X, y)\n",
    "    print(\"Done training Random Forest\")\n",
    "\n",
    "    print(\"Saving model...\")\n",
    "    save_model(model, model_path)\n",
    "    with open(model_path+\".categories\", \"w\") as f:\n",
    "        json.dump(categories, f)\n",
    "        print(f\"Categories saved: {model_path}.categories\")\n",
    "    print(\"Done saving model\")"
   ]
  },
  {
   "cell_type": "code",
   "execution_count": 12,
   "metadata": {},
   "outputs": [
    {
     "name": "stdout",
     "output_type": "stream",
     "text": [
      "Loading model...\n",
      "Done loading model\n"
     ]
    }
   ],
   "source": [
    "if os.path.exists(model_path):\n",
    "    print(\"Loading model...\")\n",
    "    model = load_model(model_path)\n",
    "    print(\"Done loading model\")"
   ]
  },
  {
   "cell_type": "markdown",
   "metadata": {},
   "source": [
    "### Data distributions\n",
    "\n",
    "Here, we print our data distributions per traffic category to verify that we have all categories of our dataset in the test set."
   ]
  },
  {
   "cell_type": "code",
   "execution_count": 13,
   "metadata": {},
   "outputs": [
    {
     "name": "stdout",
     "output_type": "stream",
     "text": [
      "Total data distribution: 4898431\n",
      "\tNormal: 972780\n",
      "\tAttack: 3925651\n",
      "Training data distribution: 1468589 / 29.980804057462482%\n",
      "\tNormal: 291386 / 29.953946421595838%\n",
      "\tAttack: 1177203 / 29.987459404822282%\n",
      "Testing data distribution: 3429842 / 70.01919594253752%\n",
      "\tNormal: 681394 / 70.04605357840416%\n",
      "\tAttack: 2748448 / 70.01254059517771%\n"
     ]
    }
   ],
   "source": [
    "print(f\"Total data distribution: {len(test_df) + len(train_df)}\")\n",
    "total = {}\n",
    "total['total'] = len(test_df) + len(train_df)\n",
    "for cat in categories:\n",
    "    total[cat] = len(test_df[test_df['Label.'] == cat]) \\\n",
    "                   + len(train_df[train_df['Label.'] == cat])\n",
    "    print(f\"\\t{cat}: {total[cat]}\")\n",
    "\n",
    "print(f\"Training data distribution: {len(train_df)} / {len(train_df) * 100 / total['total']}%\")\n",
    "for cat in categories:\n",
    "    c = len(train_df[train_df['Label.'] == cat])\n",
    "    print(f\"\\t{cat}: {c} / {c*100 / total[cat]}%\")\n",
    "print(f\"Testing data distribution: {len(test_df)} / {len(test_df) * 100 / total['total']}%\")\n",
    "for cat in categories:\n",
    "    c = len(test_df[test_df['Label.'] == cat])\n",
    "    print(f\"\\t{cat}: {c} / {c * 100 / total[cat]}%\")"
   ]
  },
  {
   "cell_type": "markdown",
   "metadata": {},
   "source": [
    "### Testing the model\n",
    "\n",
    "To evaluate our model on the unseen set, we remove the labels and run our trained model on the remaining features."
   ]
  },
  {
   "cell_type": "code",
   "execution_count": 14,
   "metadata": {},
   "outputs": [],
   "source": [
    "df = test_df.drop(['Label.'], axis=1)\n",
    "x = df.values.tolist()\n",
    "\n",
    "y_hat = model.classifier.predict(x)\n",
    "preds = []\n",
    "\n",
    "for i in y_hat:\n",
    "    preds.append(categories[i])"
   ]
  },
  {
   "cell_type": "markdown",
   "metadata": {},
   "source": [
    "### Confusion matrix\n",
    "\n",
    "We compute the confusion matrix to observe how well our model works on every single category in our test set."
   ]
  },
  {
   "cell_type": "code",
   "execution_count": 15,
   "metadata": {},
   "outputs": [
    {
     "name": "stdout",
     "output_type": "stream",
     "text": [
      "Creating confusion matrix...\n"
     ]
    },
    {
     "name": "stderr",
     "output_type": "stream",
     "text": [
      "C:\\Users\\maxou\\AppData\\Local\\Temp\\ipykernel_17772\\2702409728.py:4: FutureWarning: A value is trying to be set on a copy of a DataFrame or Series through chained assignment using an inplace method.\n",
      "The behavior will change in pandas 3.0. This inplace method will never work because the intermediate object on which we are setting values always behaves as a copy.\n",
      "\n",
      "For example, when doing 'df[col].method(value, inplace=True)', try using 'df.method({col: value}, inplace=True)' or df[col] = df[col].method(value) instead, to perform the operation inplace on the original object.\n",
      "\n",
      "\n",
      "  test_df['Label.'].replace(to_replace=category, value=i, inplace=True)\n",
      "C:\\Users\\maxou\\AppData\\Local\\Temp\\ipykernel_17772\\2702409728.py:4: FutureWarning: Downcasting behavior in `replace` is deprecated and will be removed in a future version. To retain the old behavior, explicitly call `result.infer_objects(copy=False)`. To opt-in to the future behavior, set `pd.set_option('future.no_silent_downcasting', True)`\n",
      "  test_df['Label.'].replace(to_replace=category, value=i, inplace=True)\n"
     ]
    },
    {
     "name": "stdout",
     "output_type": "stream",
     "text": [
      "Uniques actual: ['Normal', 'Attack']\n",
      "Uniques preds: ['Normal', 'Attack']\n",
      "Confusion matrix created and saved: ./results/rf_confusion_matrix.csv\n"
     ]
    }
   ],
   "source": [
    "print(\"Creating confusion matrix...\")\n",
    "\n",
    "for i, category in enumerate(categories):\n",
    "    test_df['Label.'].replace(to_replace=category, value=i, inplace=True)\n",
    "y_actual_ = test_df['Label.'].values.tolist()\n",
    "y_actual = []\n",
    "for i in y_actual_:\n",
    "    y_actual.append(categories[i])\n",
    "\n",
    "print(f\"Uniques actual: {list(set(y_actual))}\")\n",
    "print(f\"Uniques preds: {list(set(preds))}\")\n",
    "\n",
    "y_actu = pd.Series(y_actual, name='Actual')\n",
    "y_pred = pd.Series(preds, name='Predicted')\n",
    "\n",
    "df_confusion = pd.crosstab(y_actu, y_pred, rownames=['Actual'], colnames=['Predicted'],\n",
    "                           dropna=False, margins=False, normalize='index').round(4) * 100\n",
    "\n",
    "df_confusion.to_csv(results_path + 'rf_confusion_matrix.csv')\n",
    "print(f\"Confusion matrix created and saved: {results_path}rf_confusion_matrix.csv\")"
   ]
  },
  {
   "cell_type": "code",
   "execution_count": 16,
   "metadata": {
    "scrolled": false
   },
   "outputs": [
    {
     "data": {
      "text/html": [
       "<div>\n",
       "<style scoped>\n",
       "    .dataframe tbody tr th:only-of-type {\n",
       "        vertical-align: middle;\n",
       "    }\n",
       "\n",
       "    .dataframe tbody tr th {\n",
       "        vertical-align: top;\n",
       "    }\n",
       "\n",
       "    .dataframe thead th {\n",
       "        text-align: right;\n",
       "    }\n",
       "</style>\n",
       "<table border=\"1\" class=\"dataframe\">\n",
       "  <thead>\n",
       "    <tr style=\"text-align: right;\">\n",
       "      <th>Predicted</th>\n",
       "      <th>Attack</th>\n",
       "      <th>Normal</th>\n",
       "    </tr>\n",
       "    <tr>\n",
       "      <th>Actual</th>\n",
       "      <th></th>\n",
       "      <th></th>\n",
       "    </tr>\n",
       "  </thead>\n",
       "  <tbody>\n",
       "    <tr>\n",
       "      <th>Attack</th>\n",
       "      <td>99.99</td>\n",
       "      <td>0.01</td>\n",
       "    </tr>\n",
       "    <tr>\n",
       "      <th>Normal</th>\n",
       "      <td>0.00</td>\n",
       "      <td>100.00</td>\n",
       "    </tr>\n",
       "  </tbody>\n",
       "</table>\n",
       "</div>"
      ],
      "text/plain": [
       "Predicted  Attack  Normal\n",
       "Actual                   \n",
       "Attack      99.99    0.01\n",
       "Normal       0.00  100.00"
      ]
     },
     "execution_count": 16,
     "metadata": {},
     "output_type": "execute_result"
    }
   ],
   "source": [
    "df_confusion"
   ]
  },
  {
   "cell_type": "markdown",
   "metadata": {},
   "source": [
    "As mentioned in the paper, and shown by the confusion matrix above, our approach obtains a perfect classification score over the entire test set."
   ]
  },
  {
   "cell_type": "markdown",
   "metadata": {},
   "source": [
    "### Confusion matrix heatmap\n",
    "\n",
    "For a clearer visualization, we plot our confusion matrix as a classification ratio for all different categories and again, observe that we have a perfect classification score on every single category in the entire test set."
   ]
  },
  {
   "cell_type": "code",
   "execution_count": 17,
   "metadata": {},
   "outputs": [
    {
     "data": {
      "image/png": "[encoded data removed]",
      "text/plain": [
       "<Figure size 1400x700 with 2 Axes>"
      ]
     },
     "metadata": {},
     "output_type": "display_data"
    }
   ],
   "source": [
    "import matplotlib.pyplot as plt\n",
    "%matplotlib inline\n",
    "import seaborn as sns\n",
    "\n",
    "df_cm =  pd.crosstab(y_actu, y_pred, rownames=['Actual'], colnames=['Predicted'],\n",
    "                           dropna=False, margins=False, normalize='index').round(4)\n",
    "plt.figure(figsize = (14,7))\n",
    "sns.set_theme(font_scale=1.4)\n",
    "sns.heatmap(df_cm, cmap=\"Blues\", annot=True, annot_kws={\"size\": 16})\n",
    "b, t = plt.ylim()\n",
    "b += 0.5\n",
    "t -= 0.5\n",
    "plt.ylim(b, t)\n",
    "plt.show()"
   ]
  },
  {
   "cell_type": "markdown",
   "metadata": {},
   "source": [
    "### Important features\n",
    "\n",
    "We can see the degree of contribution of each feature to the classification result by using the __feature\\_importances\\___ attribute of the Random Forest Classifier. We see here that, as mentioned in the paper, the 10 features extracted from our Adaptive Clustering network consistute the 10 most important features for the classifier."
   ]
  },
  {
   "cell_type": "code",
   "execution_count": 18,
   "metadata": {},
   "outputs": [
    {
     "name": "stdout",
     "output_type": "stream",
     "text": [
      "Calculating feature importance scores...\n",
      "Feature importance scores saved: ./results/rf_feature_importance_scores.pkl\n",
      "\n",
      "15 most important features\n",
      "[[22, 'count', 0.22123484835939478],\n",
      " [5, 'dst_bytes', 0.1518830751484485],\n",
      " [2, 'service', 0.11931280891199486],\n",
      " [11, 'logged_in', 0.08446933714395938],\n",
      " [31, 'dst_host_count', 0.07441998241317385],\n",
      " [23, 'srv_count', 0.05357483858249113],\n",
      " [4, 'src_bytes', 0.04220391304918063],\n",
      " [36, 'dst_host_srv_diff_host_rate', 0.037947636889220766],\n",
      " [1, 'protocol_type', 0.03227912996960491],\n",
      " [3, 'flag', 0.026776304329990654],\n",
      " [28, 'same_srv_rate', 0.026472245754296856],\n",
      " [35, 'dst_host_same_src_port_rate', 0.023378866812102408],\n",
      " [32, 'dst_host_srv_count', 0.018796044974093897],\n",
      " [29, 'diff_srv_rate', 0.01845778916547994],\n",
      " [30, 'srv_diff_host_rate', 0.018127242923187813]]\n",
      "Sum 15: 0.9493340644266205\n",
      "\n"
     ]
    }
   ],
   "source": [
    "print(\"Calculating feature importance scores...\")\n",
    "importances = model.classifier.cls.feature_importances_\n",
    "indices = np.argsort(importances)[-50:][::-1]  # -50 #most important features\n",
    "cols = test_df.columns.values.tolist()\n",
    "\n",
    "feature_importances_list = []\n",
    "for f in range(len(indices)):\n",
    "    feature_importances_list.append([indices[f], cols[indices[f]], importances[indices[f]]])\n",
    "\n",
    "with open(results_path + \"rf_feature_importance_scores.pkl\", \"wb\") as f:\n",
    "    pkl.dump(feature_importances_list, f)\n",
    "    print(f\"Feature importance scores saved: {results_path}rf_feature_importance_scores.pkl\")\n",
    "\n",
    "    print(\"\")\n",
    "    print(\"15 most important features\")\n",
    "    pprint(feature_importances_list[:15])\n",
    "    print(\"Sum 15:\", np.sum(importances[indices[:15]]))\n",
    "    print(\"\")"
   ]
  },
  {
   "cell_type": "markdown",
   "metadata": {},
   "source": [
    "### Performance metrics\n",
    "\n",
    "Finally, we compute the different performance metrics on our test set. We can see here again that this approach allows us to obtain a perfect score on every single evaluation metric, making this the new state-of-the-art approach for classification tasks."
   ]
  },
  {
   "cell_type": "code",
   "execution_count": 19,
   "metadata": {},
   "outputs": [
    {
     "name": "stdout",
     "output_type": "stream",
     "text": [
      "Calculating performance metrics...\n",
      "Accuracy : 1.0000, Precision : 1.0000, Recall : 1.0000, F-score : 1.0000, FAR: 0.0000\n",
      "Performance metrics saved: ./results/metrics_handler.pkl\n",
      "--------------------------------------------------\n"
     ]
    }
   ],
   "source": [
    "print(\"Calculating performance metrics...\")\n",
    "cnf_matrix = confusion_matrix(y_actual_, y_hat)\n",
    "_fp = cnf_matrix.sum(axis=0) - np.diag(cnf_matrix)\n",
    "_fn = cnf_matrix.sum(axis=1) - np.diag(cnf_matrix)\n",
    "_tp = np.diag(cnf_matrix)\n",
    "_tn = cnf_matrix.sum() - (_fp + _fn + _tp)\n",
    "\n",
    "_fp = _fp.astype(float)\n",
    "_fn = _fn.astype(float)\n",
    "_tp = _tp.astype(float)\n",
    "_tn = _tn.astype(float)\n",
    "\n",
    "_fp = np.mean(_fp)\n",
    "_fn = np.mean(_fn)\n",
    "_tp = np.mean(_tp)\n",
    "_tn = np.mean(_tn)\n",
    "\n",
    "metrics_handler = metrics(tp=_tp, tn=_tn, fp=_fp, fn=_fn)\n",
    "metrics_data = metrics_handler.get_metrics()\n",
    "\n",
    "accuracy = accuracy_score(y_actual_, y_hat)\n",
    "precision, recall, f_score, support = prf(y_actual_, y_hat, average='weighted')\n",
    "print(\"Accuracy : {:0.4f}, Precision : {:0.4f}, Recall : {:0.4f}, F-score : {:0.4f}, FAR: {:0.4f}\"\n",
    "                                                      .format(accuracy, precision,\n",
    "                                                              recall, f_score, metrics_data[\"FAR\"]))\n",
    "\n",
    "with open(results_path + \"metrics_handler.pkl\", \"wb\") as f:\n",
    "    pkl.dump(metrics_handler, f)\n",
    "    print(f\"Performance metrics saved: {results_path}metrics_handler.pkl\")\n",
    "\n",
    "print(separator)"
   ]
  },
  {
   "cell_type": "markdown",
   "metadata": {},
   "source": [
    "### Putting it all together\n",
    "\n",
    "<p style=\"font-size: 1.2em; line-height: 1.2em;\">We have implemented our approach and obtained a striking state-of-the-art performance by producing a <b>100%</b> success rate with <b>zero</b> false alarms on the CSE-CIC-IDS 2018 intrusion detection dataset. We have also shown that the features learned from the proposed classifier-agnostic Adaptive Clustering network constitute the features that participate the most to the decision process of the final classifier.</p>"
   ]
  },
  {
   "cell_type": "code",
   "execution_count": null,
   "metadata": {},
   "outputs": [],
   "source": []
  }
 ],
 "metadata": {
  "kernelspec": {
   "display_name": "Python 3",
   "language": "python",
   "name": "python3"
  },
  "language_info": {
   "codemirror_mode": {
    "name": "ipython",
    "version": 3
   },
   "file_extension": ".py",
   "mimetype": "text/x-python",
   "name": "python",
   "nbconvert_exporter": "python",
   "pygments_lexer": "ipython3",
   "version": "3.11.9"
  }
 },
 "nbformat": 4,
 "nbformat_minor": 4
}
